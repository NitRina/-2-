{
 "cells": [
  {
   "cell_type": "code",
   "execution_count": null,
   "metadata": {},
   "outputs": [],
   "source": [
    "import random"
   ]
  },
  {
   "cell_type": "code",
   "execution_count": null,
   "metadata": {},
   "outputs": [],
   "source": [
    "def get_a_word():\n",
    "    while True:\n",
    "        a = input('\\nВыбирите категорию и введите только её номер:\\n1 астрономия\\n2 лингвистика\\n3 искусство\\n')\n",
    "        if a == '1' or a == '2' or a == '3':\n",
    "            with open(a + '.txt', 'r', encoding='utf-8') as f:\n",
    "                slovo = random.choice(f.readline().split())\n",
    "            break\n",
    "        else:\n",
    "            print('Такого варианта нет в списке, попробуйте ещё раз')           \n",
    "    return slovo"
   ]
  },
  {
   "cell_type": "code",
   "execution_count": null,
   "metadata": {},
   "outputs": [],
   "source": [
    "def igra(slovo):\n",
    "    attempts = 10\n",
    "    guessed_letters = []\n",
    "    tried_letters = ''\n",
    "    my_dict = {\n",
    "        10: 'У вас есть 10 попыток',\n",
    "        9: ' |\\n |\\n |\\n |\\n |\\n | осталось 9 попытoк',\n",
    "        8: ' _____\\n |\\n |\\n |\\n |\\n |\\n | осталось 8 попытoк',\n",
    "        7: ' _____\\n |/ \\n |\\n |\\n |\\n |\\n | осталось 7 попытoк',\n",
    "        6: ' _____\\n |/  |\\n |\\n |\\n |\\n |\\n | осталось 6 попытoк',\n",
    "        5: ' _____\\n |/  |\\n |   o\\n |\\n |\\n |\\n | осталось 5 попытoк',\n",
    "        4: ' _____\\n |/  |\\n |   o\\n |  / \\n |\\n |\\n | осталось 4 попытки',\n",
    "        3: ' _____\\n |/  |\\n |   o\\n |  /| \\n |\\n |\\n | осталось 3 попытки',\n",
    "        2: ' _____\\n |/  |\\n |   o\\n |  /|\\ \\n |\\n |\\n | осталось 2 попытки',\n",
    "        1: ' _____\\n |/  |\\n |   o\\n |  /|\\ \\n |  /  \\n |\\n | осталась 1 попытка'\n",
    "    }\n",
    "    while attempts:\n",
    "        print(my_dict.get(attempts))\n",
    "        quiz = ''\n",
    "        for letter in slovo:\n",
    "            if letter in guessed_letters:\n",
    "                quiz += letter\n",
    "            else:\n",
    "                quiz += '_ '\n",
    "        print('Слово:', quiz)\n",
    "        guessed_part = quiz.replace('_ ', '')\n",
    "        if guessed_part == slovo:\n",
    "            break\n",
    "        while True:\n",
    "            popytka = input('\\nПопробуйте угадать какая буква есть в загаданном слове: ').lower()\n",
    "            if popytka in tried_letters:\n",
    "                print('Эта буква уже проверена')\n",
    "            elif len(popytka) == 1 and popytka in 'ёйцукенгшщзхъфывапролджэячсмитьбю'and popytka not in tried_letters:\n",
    "                tried_letters += popytka + ' '\n",
    "                break\n",
    "            else:\n",
    "                print('Что-то не так, возможно это не буква кириллицы, попробуйте снова.')\n",
    "        if popytka in slovo:\n",
    "            guessed_letters.append(popytka)\n",
    "            print('\\nЭта буква есть в слове\\nПроверенные буквы:', tried_letters)\n",
    "            continue\n",
    "        attempts -= 1\n",
    "        print('\\nЭтой буквы нет в слове\\nПроверенные буквы:', tried_letters)\n",
    "    if attempts:\n",
    "        print('\\n   .•*°*•.✿.•°*Вы победили!*°•.✿.•*°*•.\\n о/ \\n/|\\n/ \\ \\n')\n",
    "    else:\n",
    "        print(' _____\\n |/  |\\n |   o\\n |  /|\\ \\n |  / \\ \\n |\\n | попытки закончились, вы проиграли\\nЗагаданное слово:', slovo)"
   ]
  },
  {
   "cell_type": "code",
   "execution_count": null,
   "metadata": {},
   "outputs": [],
   "source": [
    "def main():\n",
    "    print('''\n",
    "    ------------------VISILITSA-SUPERGAME----------------------\n",
    "        \n",
    "    Правила:\n",
    "    Вы вибираете тему и получаете по этой теме слово, в котором все буквы заменены на \"_\".\n",
    "    Предполагаете, какая буква есть в слове.\n",
    "    Если вы угадали - она появится во всех местах, где встречается, попытки в таком случае не отнимаются.\n",
    "    Если не угадали - на экране появится часть рисунка и вы потеряете 1 попытку.\n",
    "    Всего у вас есть право на 10 ошибок.\n",
    "    Приятной игры!\n",
    "        ''')\n",
    "    while True:\n",
    "        game = input('Если не хотите играть - введите ХВАТИТ, если хотите - любой другой символ или просто Enter\\n')\n",
    "        if game.lower() == 'хватит':\n",
    "            print('\\nДо новых встреч! =^･ｪ･^=')\n",
    "            break\n",
    "        else:\n",
    "            igra(get_a_word())\n",
    "       \n",
    "if __name__ == '__main__':\n",
    "    main()"
   ]
  }
 ],
 "metadata": {
  "kernelspec": {
   "display_name": "Python 3",
   "language": "python",
   "name": "python3"
  },
  "language_info": {
   "codemirror_mode": {
    "name": "ipython",
    "version": 3
   },
   "file_extension": ".py",
   "mimetype": "text/x-python",
   "name": "python",
   "nbconvert_exporter": "python",
   "pygments_lexer": "ipython3",
   "version": "3.6.5"
  }
 },
 "nbformat": 4,
 "nbformat_minor": 2
}
