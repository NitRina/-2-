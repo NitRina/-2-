{
 "cells": [
  {
   "cell_type": "code",
   "execution_count": 1,
   "metadata": {},
   "outputs": [],
   "source": [
    "import json\n",
    "import urllib.request\n",
    "# я не знаю, как это можно будет проверить, меня гитхаб даже с токеном постоянно банил\n",
    "\n",
    "users = ['elmiram', 'maryszmary', 'lizaku', 'nevmenandr', 'ancatmara',\n",
    "         'roctbb', 'akutuzov', 'agricolamz', 'lehkost', 'kylepjohnson',\n",
    "         'mikekestemont', 'demidovakatya', 'shwars', 'JelteF', 'timgraham',\n",
    "         'arogozhnikov', 'jasny', 'bcongdon', 'whyisjake', 'gvanrossum']"
   ]
  },
  {
   "cell_type": "code",
   "execution_count": 2,
   "metadata": {},
   "outputs": [],
   "source": [
    "def choose_user(users):\n",
    "    while True:\n",
    "        user = input('Введите имя пользователя из списка: ')\n",
    "        if user in users:\n",
    "            break\n",
    "        print('В списке нет такого пользователя')\n",
    "    print('Вы выбрали пользователя', user)\n",
    "    return user"
   ]
  },
  {
   "cell_type": "code",
   "execution_count": 3,
   "metadata": {},
   "outputs": [],
   "source": [
    "def get_inf(user):\n",
    "    count = 1\n",
    "    global new_data\n",
    "    new_data = []\n",
    "    while True:\n",
    "        url = 'https://api.github.com/users/{}/repos?page={}&per_page=100'.format(user, count)\n",
    "        response = urllib.request.urlopen(url)\n",
    "        text = response.read().decode('utf-8')\n",
    "       # global new_data\n",
    "        data = json.loads(text)\n",
    "        if data == []:\n",
    "                break\n",
    "        new_data += data\n",
    "        count += 1\n",
    "    return new_data"
   ]
  },
  {
   "cell_type": "code",
   "execution_count": 4,
   "metadata": {},
   "outputs": [],
   "source": [
    "def user_inf(new_data):\n",
    "    languages = {}\n",
    "    print('\\nВсего репозиториев у пользователя: {}.'.format(len(new_data)))\n",
    "    print('Список его репозиториев c описаниями:')\n",
    "    for i in new_data:\n",
    "        print(' ❈ {}: {}'.format(i['name'], i['description']))\n",
    "        my_list = languages.setdefault(i['language'], [])\n",
    "        my_list.append(i['name'])\n",
    "    for i in languages:\n",
    "        lang_n = len(languages[i])\n",
    "        rep = ', '.join(languages[i])\n",
    "        print('\\n{} в репозиториях ({}): {}.'.format(i, lang_n, rep))"
   ]
  },
  {
   "cell_type": "code",
   "execution_count": 8,
   "metadata": {},
   "outputs": [],
   "source": [
    "def all_users_inf(users):\n",
    "    rep = 0\n",
    "    my_str = ''\n",
    "    languages = {}\n",
    "    lang_n = 0\n",
    "    for user in users:\n",
    "        get_inf(user)\n",
    "        if len(new_data) == rep:\n",
    "            my_str += ', ' + user\n",
    "        elif len(new_data) > rep:\n",
    "            rep = len(new_data)\n",
    "            my_str = user\n",
    "        for i in new_data:\n",
    "            my_list = languages.setdefault(i['language'], [])\n",
    "            my_list.append(i['name'])\n",
    "    for i in languages:\n",
    "        if len(languages[i]) > lang_n:\n",
    "            lang_n = len(languages[i])\n",
    "            lang = i\n",
    "    print('\\nБольше всего репозиориев ({}) у {}.'.format(rep, my_str))\n",
    "    print('\\n{} - самый популярный язык ({} вхождений).'.format(lang, lang_n))"
   ]
  },
  {
   "cell_type": "code",
   "execution_count": 6,
   "metadata": {},
   "outputs": [],
   "source": [
    "def follower(users):\n",
    "    followers = 0\n",
    "    my_str = ''\n",
    "    for user in users:\n",
    "        count = 1\n",
    "        my_list = []\n",
    "        while True:\n",
    "            url = 'https://api.github.com/users/{}/followers?page={}&per_page=100'.format(user, count)\n",
    "            response = urllib.request.urlopen(url)\n",
    "            text = response.read().decode('utf-8')\n",
    "            data = json.loads(text)\n",
    "            if data == []:\n",
    "                break\n",
    "            my_list += data\n",
    "            count += 1\n",
    "        if len(my_list) == followers:\n",
    "            my_str += ', ' + user\n",
    "        elif len(my_list) > followers:\n",
    "            followers = len(my_list)\n",
    "            my_str = user\n",
    "    print('\\nБольше всего фолловеров ({}) у {}.'.format(followers, my_str))"
   ]
  },
  {
   "cell_type": "code",
   "execution_count": 13,
   "metadata": {},
   "outputs": [],
   "source": [
    "def main():\n",
    "    print('Список пользователей: {}.\\n'.format(', '.join(users)))\n",
    "    user_inf(get_inf(choose_user(users)))\n",
    "    follower(users)\n",
    "    all_users_inf(users)\n",
    "\n",
    "\n",
    "if __name__ == '__main__':\n",
    "    main()"
   ]
  }
 ],
 "metadata": {
  "kernelspec": {
   "display_name": "Python 3",
   "language": "python",
   "name": "python3"
  },
  "language_info": {
   "codemirror_mode": {
    "name": "ipython",
    "version": 3
   },
   "file_extension": ".py",
   "mimetype": "text/x-python",
   "name": "python",
   "nbconvert_exporter": "python",
   "pygments_lexer": "ipython3",
   "version": "3.6.5"
  }
 },
 "nbformat": 4,
 "nbformat_minor": 2
}
