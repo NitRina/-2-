{
 "cells": [
  {
   "cell_type": "code",
   "execution_count": null,
   "metadata": {},
   "outputs": [],
   "source": [
    "import urllib.request\n",
    "import time\n",
    "from bs4 import BeautifulSoup\n",
    "import os\n",
    "import re\n",
    "import html\n",
    "import shutil"
   ]
  },
  {
   "cell_type": "code",
   "execution_count": null,
   "metadata": {},
   "outputs": [],
   "source": [
    "def get_text(text):\n",
    "    reg = re.compile('</h2>.*?<div class=\"comment\">', flags=re.DOTALL)\n",
    "    my_text = reg.findall(text)\n",
    "    reg_tag = re.compile('<.*?>', re.DOTALL)\n",
    "    reg_space = re.compile('\\s{2,}', re.DOTALL)\n",
    "    for t in my_text:\n",
    "        clean_t = reg_space.sub(\"\", t)\n",
    "        clean_t = reg_tag.sub(\"\", clean_t)\n",
    "        clean_t = html.unescape(clean_t)\n",
    "        return clean_t "
   ]
  },
  {
   "cell_type": "code",
   "execution_count": null,
   "metadata": {},
   "outputs": [],
   "source": [
    " def get_meta(text):\n",
    "    soup = BeautifulSoup(text, 'html.parser')\n",
    "    article = soup.find('h2').get_text()\n",
    "    date = soup.find('div', {'class': 'mndata'}).get_text()\n",
    "    category = soup.find('h1').get_text()\n",
    "    return article, date, category"
   ]
  },
  {
   "cell_type": "code",
   "execution_count": null,
   "metadata": {},
   "outputs": [],
   "source": [
    "def my_path(date, counter, path_type):\n",
    "    path = os.path.join('газета', path_type, date[6:10], date[3:5])\n",
    "    if not os.path.exists(path):\n",
    "        os.makedirs(path)\n",
    "    path = os.path.join(path, str(counter))\n",
    "    return path, counter"
   ]
  },
  {
   "cell_type": "code",
   "execution_count": null,
   "metadata": {},
   "outputs": [],
   "source": [
    "def my_plain(counter, date, article, category, page_url, clean_t):\n",
    "    path, counter = my_path(date, counter, 'plain')\n",
    "    path += '.txt'\n",
    "    with open(path, 'w', encoding='utf-8') as f:\n",
    "        f.write('@au None\\n@ti %s\\n@da %s\\n@topic %s\\n@url %s\\n%s' % (\n",
    "                article, date, category, page_url, clean_t))\n",
    "    return counter"
   ]
  },
  {
   "cell_type": "code",
   "execution_count": null,
   "metadata": {},
   "outputs": [],
   "source": [
    "def mystem_text(counter, date):\n",
    "    path, counter = my_path(date, counter, 'mystem-plain')\n",
    "    path += '.txt'\n",
    "    os.system('./mystem -id tmp.txt ' + path)\n",
    "    path, counter = my_path(date, counter, 'mystem-xml')\n",
    "    path += '.xml'\n",
    "    os.system('./mystem -id tmp.txt ' + path)\n",
    "    return counter"
   ]
  },
  {
   "cell_type": "code",
   "execution_count": null,
   "metadata": {},
   "outputs": [],
   "source": [
    "def meta_data(counter, page_url, article, date, category):\n",
    "    path, counter = my_path(date, counter, 'plain')\n",
    "    row = '%s\\t\\t%s\\t%s\\tпублицистика\\t%s\\tнейтральный\\tн-возраст\\t' \\\n",
    "          'н-уровень\\tрайонная\\t%s\\tСельская ' \\\n",
    "          'новь\\t%s\\tгазета\\tРоссия\\tПензенская область\\tru '\n",
    "    inf = row % (path + '.txt', article, date, category, page_url, date[6:10])\n",
    "    return inf, counter"
   ]
  },
  {
   "cell_type": "code",
   "execution_count": null,
   "metadata": {},
   "outputs": [],
   "source": [
    "def main():\n",
    "    if os.path.exists('газета'):\n",
    "        shutil.rmtree('газета')\n",
    "    counter = 0\n",
    "    os.makedirs('газета')\n",
    "    for a in range(200, 3435):\n",
    "        time.sleep(2)\n",
    "        page_url = 'http://www.selsknov.ru/news-10-%d.html' % a\n",
    "        try:\n",
    "            page = urllib.request.urlopen(page_url)\n",
    "            text = page.read().decode('cp1251')\n",
    "        except urllib.error.HTTPError:\n",
    "            print('Error at', page_url)\n",
    "            continue\n",
    "        clean_t = get_text(text)\n",
    "        article, date, category = get_meta(text)\n",
    "        if clean_t == '' or article == '':\n",
    "            continue\n",
    "        with open(os.path.join('газета', 'metadata.csv'), 'a',\n",
    "                  encoding='utf-8') as csv:\n",
    "            inf, counter = meta_data(counter, page_url, article,\n",
    "                                     date, category)\n",
    "            csv.write(inf + '\\n')\n",
    "            with open('tmp.txt', 'w', encoding='utf-8') as tmp:\n",
    "                tmp.write(clean_t)\n",
    "            counter = my_plain(counter, date, page_url,\n",
    "                               article, category, clean_t)\n",
    "            counter = mystem_text(counter, date)\n",
    "            counter += 1\n",
    "    os.remove('tmp.txt')"
   ]
  },
  {
   "cell_type": "code",
   "execution_count": null,
   "metadata": {},
   "outputs": [],
   "source": [
    "if __name__== '__main__':\n",
    "    main()\n",
    "    print('done')"
   ]
  }
 ],
 "metadata": {
  "kernelspec": {
   "display_name": "Python 3",
   "language": "python",
   "name": "python3"
  },
  "language_info": {
   "codemirror_mode": {
    "name": "ipython",
    "version": 3
   },
   "file_extension": ".py",
   "mimetype": "text/x-python",
   "name": "python",
   "nbconvert_exporter": "python",
   "pygments_lexer": "ipython3",
   "version": "3.6.5"
  }
 },
 "nbformat": 4,
 "nbformat_minor": 2
}
